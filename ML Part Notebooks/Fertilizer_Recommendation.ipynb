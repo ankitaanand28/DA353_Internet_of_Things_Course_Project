{
  "cells": [
    {
      "cell_type": "code",
      "execution_count": 1,
      "metadata": {
        "id": "9XDsv5whOvqj"
      },
      "outputs": [],
      "source": [
        "# Importing libraries\n",
        "\n",
        "from __future__ import print_function\n",
        "import pandas as pd\n",
        "import numpy as np\n",
        "import matplotlib.pyplot as plt\n",
        "import seaborn as sns\n",
        "from sklearn.metrics import classification_report\n",
        "from sklearn import metrics\n",
        "from sklearn import tree\n",
        "import warnings\n",
        "warnings.filterwarnings('ignore')"
      ]
    },
    {
      "cell_type": "code",
      "execution_count": 3,
      "metadata": {
        "id": "VaO0Plk8O8Ss"
      },
      "outputs": [],
      "source": [
        "PATH = 'Fertilizer Prediction.csv'\n",
        "df = pd.read_csv(PATH)"
      ]
    },
    {
      "cell_type": "markdown",
      "metadata": {},
      "source": [
        "## Data Preprocessing"
      ]
    },
    {
      "cell_type": "code",
      "execution_count": 5,
      "metadata": {
        "id": "CotVKRRPQs1f"
      },
      "outputs": [],
      "source": [
        "from numpy import array\n",
        "from sklearn.preprocessing import LabelEncoder"
      ]
    },
    {
      "cell_type": "code",
      "execution_count": 6,
      "metadata": {
        "id": "bkHCKKkRS0J-"
      },
      "outputs": [],
      "source": [
        "soil_type= array(df['Soil Type'].tolist())\n",
        "crop_type= array(df['Crop Type'].tolist())"
      ]
    },
    {
      "cell_type": "code",
      "execution_count": 7,
      "metadata": {
        "colab": {
          "base_uri": "https://localhost:8080/"
        },
        "id": "j3KZt6wiTBS8",
        "outputId": "24bbc106-d31a-4840-d3d6-0ac06dd3ef7f"
      },
      "outputs": [
        {
          "data": {
            "text/plain": [
              "array(['Maize', 'Sugarcane', 'Cotton', 'Tobacco', 'Paddy', 'Barley',\n",
              "       'Cotton', 'Wheat', 'Millets', 'Oil seeds', 'Pulses', 'Maize',\n",
              "       'Cotton', 'Paddy', 'Ground Nuts', 'Sugarcane', 'Pulses', 'Barley',\n",
              "       'Cotton', 'Wheat', 'Millets', 'Sugarcane', 'Tobacco', 'Millets',\n",
              "       'Paddy', 'Maize', 'Cotton', 'Sugarcane', 'Oil seeds', 'Pulses',\n",
              "       'Ground Nuts', 'Sugarcane', 'Paddy', 'Barley', 'Wheat', 'Millets',\n",
              "       'Cotton', 'Paddy', 'Ground Nuts', 'Millets', 'Pulses', 'Sugarcane',\n",
              "       'Tobacco', 'Sugarcane', 'Barley', 'Wheat', 'Oil seeds', 'Paddy',\n",
              "       'Ground Nuts', 'Maize', 'Tobacco', 'Oil seeds', 'Pulses', 'Barley',\n",
              "       'Cotton', 'Millets', 'Wheat', 'Millets', 'Sugarcane',\n",
              "       'Ground Nuts', 'Paddy', 'Wheat', 'Cotton', 'Barley', 'Oil seeds',\n",
              "       'Cotton', 'Sugarcane', 'Sugarcane', 'Pulses', 'Millets', 'Pulses',\n",
              "       'Tobacco', 'Wheat', 'Oil seeds', 'Ground Nuts', 'Paddy', 'Maize',\n",
              "       'Sugarcane', 'Pulses', 'Cotton', 'Paddy', 'Millets', 'Cotton',\n",
              "       'Sugarcane', 'Barley', 'Pulses', 'Tobacco', 'Millets', 'Wheat',\n",
              "       'Cotton', 'Oil seeds', 'Paddy', 'Ground Nuts', 'Maize', 'Pulses',\n",
              "       'Tobacco', 'Wheat', 'Millets', 'Sugarcane'], dtype='<U11')"
            ]
          },
          "execution_count": 7,
          "metadata": {},
          "output_type": "execute_result"
        }
      ],
      "source": [
        "crop_type"
      ]
    },
    {
      "cell_type": "code",
      "execution_count": 8,
      "metadata": {
        "colab": {
          "base_uri": "https://localhost:8080/"
        },
        "id": "_vGscwqSfVN4",
        "outputId": "264ff487-eb6b-4c5d-a2ca-89d718e2d9bd"
      },
      "outputs": [
        {
          "data": {
            "text/plain": [
              "array(['Sandy', 'Loamy', 'Black', 'Red', 'Clayey', 'Sandy', 'Red',\n",
              "       'Loamy', 'Sandy', 'Black', 'Clayey', 'Sandy', 'Loamy', 'Clayey',\n",
              "       'Red', 'Black', 'Clayey', 'Sandy', 'Black', 'Loamy', 'Sandy',\n",
              "       'Loamy', 'Red', 'Black', 'Clayey', 'Sandy', 'Red', 'Loamy',\n",
              "       'Black', 'Clayey', 'Red', 'Loamy', 'Clayey', 'Sandy', 'Loamy',\n",
              "       'Black', 'Loamy', 'Clayey', 'Red', 'Sandy', 'Clayey', 'Loamy',\n",
              "       'Red', 'Black', 'Sandy', 'Loamy', 'Black', 'Clayey', 'Red',\n",
              "       'Sandy', 'Red', 'Black', 'Clayey', 'Sandy', 'Red', 'Black',\n",
              "       'Loamy', 'Sandy', 'Loamy', 'Red', 'Clayey', 'Loamy', 'Black',\n",
              "       'Sandy', 'Black', 'Red', 'Black', 'Loamy', 'Clayey', 'Sandy',\n",
              "       'Clayey', 'Red', 'Loamy', 'Black', 'Red', 'Clayey', 'Sandy',\n",
              "       'Loamy', 'Clayey', 'Red', 'Clayey', 'Sandy', 'Black', 'Loamy',\n",
              "       'Sandy', 'Clayey', 'Red', 'Black', 'Loamy', 'Loamy', 'Black',\n",
              "       'Clayey', 'Red', 'Sandy', 'Clayey', 'Red', 'Loamy', 'Sandy',\n",
              "       'Black'], dtype='<U6')"
            ]
          },
          "execution_count": 8,
          "metadata": {},
          "output_type": "execute_result"
        }
      ],
      "source": [
        "soil_type"
      ]
    },
    {
      "cell_type": "code",
      "execution_count": 9,
      "metadata": {
        "id": "7zC5XHkXQsy_"
      },
      "outputs": [],
      "source": [
        "label_encoder = LabelEncoder()\n",
        "integer_encoded1 = label_encoder.fit_transform(soil_type) #encoding soil type\n",
        "integer_encoded2 = label_encoder.fit_transform(crop_type) #encoding crop type"
      ]
    },
    {
      "cell_type": "code",
      "execution_count": 10,
      "metadata": {
        "colab": {
          "base_uri": "https://localhost:8080/"
        },
        "id": "xBMWe6IrQsta",
        "outputId": "4890b643-3e5d-4737-d39b-229b3ad799b8"
      },
      "outputs": [
        {
          "data": {
            "text/plain": [
              "array([4, 2, 0, 3, 1, 4, 3, 2, 4, 0, 1, 4, 2, 1, 3, 0, 1, 4, 0, 2, 4, 2,\n",
              "       3, 0, 1, 4, 3, 2, 0, 1, 3, 2, 1, 4, 2, 0, 2, 1, 3, 4, 1, 2, 3, 0,\n",
              "       4, 2, 0, 1, 3, 4, 3, 0, 1, 4, 3, 0, 2, 4, 2, 3, 1, 2, 0, 4, 0, 3,\n",
              "       0, 2, 1, 4, 1, 3, 2, 0, 3, 1, 4, 2, 1, 3, 1, 4, 0, 2, 4, 1, 3, 0,\n",
              "       2, 2, 0, 1, 3, 4, 1, 3, 2, 4, 0], dtype=int64)"
            ]
          },
          "execution_count": 10,
          "metadata": {},
          "output_type": "execute_result"
        }
      ],
      "source": [
        "integer_encoded1"
      ]
    },
    {
      "cell_type": "code",
      "execution_count": 11,
      "metadata": {
        "id": "L06rLTYxTnCv"
      },
      "outputs": [],
      "source": [
        "dict1={}\n",
        "for i in range(len(integer_encoded1)):\n",
        "  dict1[soil_type[i]]=integer_encoded1[i]\n",
        "dict2={}\n",
        "for i in range(len(integer_encoded2)):\n",
        "  dict2[crop_type[i]]=integer_encoded2[i]"
      ]
    },
    {
      "cell_type": "code",
      "execution_count": 12,
      "metadata": {
        "colab": {
          "base_uri": "https://localhost:8080/"
        },
        "id": "Lu1ngFnfd1F8",
        "outputId": "d96153ff-3503-423d-98eb-785bb46f4d5e"
      },
      "outputs": [
        {
          "data": {
            "text/plain": [
              "{'Sandy': 4, 'Loamy': 2, 'Black': 0, 'Red': 3, 'Clayey': 1}"
            ]
          },
          "execution_count": 12,
          "metadata": {},
          "output_type": "execute_result"
        }
      ],
      "source": [
        "dict1"
      ]
    },
    {
      "cell_type": "code",
      "execution_count": 13,
      "metadata": {
        "colab": {
          "base_uri": "https://localhost:8080/"
        },
        "id": "7JtF90atTnE5",
        "outputId": "13af97f9-7bc3-474d-ab4e-f4b6b72e8c04"
      },
      "outputs": [
        {
          "data": {
            "text/plain": [
              "{'Maize': 3,\n",
              " 'Sugarcane': 8,\n",
              " 'Cotton': 1,\n",
              " 'Tobacco': 9,\n",
              " 'Paddy': 6,\n",
              " 'Barley': 0,\n",
              " 'Wheat': 10,\n",
              " 'Millets': 4,\n",
              " 'Oil seeds': 5,\n",
              " 'Pulses': 7,\n",
              " 'Ground Nuts': 2}"
            ]
          },
          "execution_count": 13,
          "metadata": {},
          "output_type": "execute_result"
        }
      ],
      "source": [
        "dict2"
      ]
    },
    {
      "cell_type": "code",
      "execution_count": 14,
      "metadata": {
        "id": "3Cxtp6WGTnG5"
      },
      "outputs": [],
      "source": [
        "df['Soil Type']=df['Soil Type'].map(dict1)\n",
        "df['Crop Type']=df['Crop Type'].map(dict2)"
      ]
    },
    {
      "cell_type": "code",
      "execution_count": 15,
      "metadata": {
        "colab": {
          "base_uri": "https://localhost:8080/",
          "height": 423
        },
        "id": "blDf2gyWU1IC",
        "outputId": "f59783c9-9913-47a2-a847-d8bbb1a341a7"
      },
      "outputs": [
        {
          "data": {
            "text/html": [
              "<div>\n",
              "<style scoped>\n",
              "    .dataframe tbody tr th:only-of-type {\n",
              "        vertical-align: middle;\n",
              "    }\n",
              "\n",
              "    .dataframe tbody tr th {\n",
              "        vertical-align: top;\n",
              "    }\n",
              "\n",
              "    .dataframe thead th {\n",
              "        text-align: right;\n",
              "    }\n",
              "</style>\n",
              "<table border=\"1\" class=\"dataframe\">\n",
              "  <thead>\n",
              "    <tr style=\"text-align: right;\">\n",
              "      <th></th>\n",
              "      <th>Temparature</th>\n",
              "      <th>Humidity</th>\n",
              "      <th>Moisture</th>\n",
              "      <th>Soil Type</th>\n",
              "      <th>Crop Type</th>\n",
              "      <th>Nitrogen</th>\n",
              "      <th>Potassium</th>\n",
              "      <th>Phosphorous</th>\n",
              "      <th>Fertilizer Name</th>\n",
              "    </tr>\n",
              "  </thead>\n",
              "  <tbody>\n",
              "    <tr>\n",
              "      <th>0</th>\n",
              "      <td>26</td>\n",
              "      <td>52</td>\n",
              "      <td>38</td>\n",
              "      <td>4</td>\n",
              "      <td>3</td>\n",
              "      <td>37</td>\n",
              "      <td>0</td>\n",
              "      <td>0</td>\n",
              "      <td>Urea</td>\n",
              "    </tr>\n",
              "    <tr>\n",
              "      <th>1</th>\n",
              "      <td>29</td>\n",
              "      <td>52</td>\n",
              "      <td>45</td>\n",
              "      <td>2</td>\n",
              "      <td>8</td>\n",
              "      <td>12</td>\n",
              "      <td>0</td>\n",
              "      <td>36</td>\n",
              "      <td>DAP</td>\n",
              "    </tr>\n",
              "    <tr>\n",
              "      <th>2</th>\n",
              "      <td>34</td>\n",
              "      <td>65</td>\n",
              "      <td>62</td>\n",
              "      <td>0</td>\n",
              "      <td>1</td>\n",
              "      <td>7</td>\n",
              "      <td>9</td>\n",
              "      <td>30</td>\n",
              "      <td>14-35-14</td>\n",
              "    </tr>\n",
              "    <tr>\n",
              "      <th>3</th>\n",
              "      <td>32</td>\n",
              "      <td>62</td>\n",
              "      <td>34</td>\n",
              "      <td>3</td>\n",
              "      <td>9</td>\n",
              "      <td>22</td>\n",
              "      <td>0</td>\n",
              "      <td>20</td>\n",
              "      <td>28-28</td>\n",
              "    </tr>\n",
              "    <tr>\n",
              "      <th>4</th>\n",
              "      <td>28</td>\n",
              "      <td>54</td>\n",
              "      <td>46</td>\n",
              "      <td>1</td>\n",
              "      <td>6</td>\n",
              "      <td>35</td>\n",
              "      <td>0</td>\n",
              "      <td>0</td>\n",
              "      <td>Urea</td>\n",
              "    </tr>\n",
              "    <tr>\n",
              "      <th>...</th>\n",
              "      <td>...</td>\n",
              "      <td>...</td>\n",
              "      <td>...</td>\n",
              "      <td>...</td>\n",
              "      <td>...</td>\n",
              "      <td>...</td>\n",
              "      <td>...</td>\n",
              "      <td>...</td>\n",
              "      <td>...</td>\n",
              "    </tr>\n",
              "    <tr>\n",
              "      <th>94</th>\n",
              "      <td>25</td>\n",
              "      <td>50</td>\n",
              "      <td>32</td>\n",
              "      <td>1</td>\n",
              "      <td>7</td>\n",
              "      <td>24</td>\n",
              "      <td>0</td>\n",
              "      <td>19</td>\n",
              "      <td>28-28</td>\n",
              "    </tr>\n",
              "    <tr>\n",
              "      <th>95</th>\n",
              "      <td>30</td>\n",
              "      <td>60</td>\n",
              "      <td>27</td>\n",
              "      <td>3</td>\n",
              "      <td>9</td>\n",
              "      <td>4</td>\n",
              "      <td>17</td>\n",
              "      <td>17</td>\n",
              "      <td>10-26-26</td>\n",
              "    </tr>\n",
              "    <tr>\n",
              "      <th>96</th>\n",
              "      <td>38</td>\n",
              "      <td>72</td>\n",
              "      <td>51</td>\n",
              "      <td>2</td>\n",
              "      <td>10</td>\n",
              "      <td>39</td>\n",
              "      <td>0</td>\n",
              "      <td>0</td>\n",
              "      <td>Urea</td>\n",
              "    </tr>\n",
              "    <tr>\n",
              "      <th>97</th>\n",
              "      <td>36</td>\n",
              "      <td>60</td>\n",
              "      <td>43</td>\n",
              "      <td>4</td>\n",
              "      <td>4</td>\n",
              "      <td>15</td>\n",
              "      <td>0</td>\n",
              "      <td>41</td>\n",
              "      <td>DAP</td>\n",
              "    </tr>\n",
              "    <tr>\n",
              "      <th>98</th>\n",
              "      <td>29</td>\n",
              "      <td>58</td>\n",
              "      <td>57</td>\n",
              "      <td>0</td>\n",
              "      <td>8</td>\n",
              "      <td>12</td>\n",
              "      <td>0</td>\n",
              "      <td>10</td>\n",
              "      <td>20-20</td>\n",
              "    </tr>\n",
              "  </tbody>\n",
              "</table>\n",
              "<p>99 rows × 9 columns</p>\n",
              "</div>"
            ],
            "text/plain": [
              "    Temparature  Humidity   Moisture  Soil Type  Crop Type  Nitrogen  \\\n",
              "0            26         52        38          4          3        37   \n",
              "1            29         52        45          2          8        12   \n",
              "2            34         65        62          0          1         7   \n",
              "3            32         62        34          3          9        22   \n",
              "4            28         54        46          1          6        35   \n",
              "..          ...        ...       ...        ...        ...       ...   \n",
              "94           25         50        32          1          7        24   \n",
              "95           30         60        27          3          9         4   \n",
              "96           38         72        51          2         10        39   \n",
              "97           36         60        43          4          4        15   \n",
              "98           29         58        57          0          8        12   \n",
              "\n",
              "    Potassium  Phosphorous Fertilizer Name  \n",
              "0           0            0            Urea  \n",
              "1           0           36             DAP  \n",
              "2           9           30        14-35-14  \n",
              "3           0           20           28-28  \n",
              "4           0            0            Urea  \n",
              "..        ...          ...             ...  \n",
              "94          0           19           28-28  \n",
              "95         17           17        10-26-26  \n",
              "96          0            0            Urea  \n",
              "97          0           41             DAP  \n",
              "98          0           10           20-20  \n",
              "\n",
              "[99 rows x 9 columns]"
            ]
          },
          "execution_count": 15,
          "metadata": {},
          "output_type": "execute_result"
        }
      ],
      "source": [
        "df"
      ]
    },
    {
      "cell_type": "code",
      "execution_count": 16,
      "metadata": {
        "colab": {
          "base_uri": "https://localhost:8080/"
        },
        "id": "hDJUS4AhU1KR",
        "outputId": "80e87ab9-67dd-4fd4-f166-7a620cbec50c"
      },
      "outputs": [
        {
          "data": {
            "text/plain": [
              "Temparature         int64\n",
              "Humidity            int64\n",
              "Moisture            int64\n",
              "Soil Type           int64\n",
              "Crop Type           int64\n",
              "Nitrogen            int64\n",
              "Potassium           int64\n",
              "Phosphorous         int64\n",
              "Fertilizer Name    object\n",
              "dtype: object"
            ]
          },
          "execution_count": 16,
          "metadata": {},
          "output_type": "execute_result"
        }
      ],
      "source": [
        "df.dtypes"
      ]
    },
    {
      "cell_type": "code",
      "execution_count": 18,
      "metadata": {
        "colab": {
          "base_uri": "https://localhost:8080/"
        },
        "id": "s9fXHU05PRh9",
        "outputId": "5e4fb895-15f8-4c7b-bfb2-5c39d74e139f"
      },
      "outputs": [
        {
          "data": {
            "text/plain": [
              "Index(['Temparature', 'Humidity ', 'Moisture', 'Soil Type', 'Crop Type',\n",
              "       'Nitrogen', 'Potassium', 'Phosphorous', 'Fertilizer Name'],\n",
              "      dtype='object')"
            ]
          },
          "execution_count": 18,
          "metadata": {},
          "output_type": "execute_result"
        }
      ],
      "source": [
        "df.columns"
      ]
    },
    {
      "cell_type": "code",
      "execution_count": 19,
      "metadata": {
        "colab": {
          "base_uri": "https://localhost:8080/"
        },
        "id": "URqChT3RPT-I",
        "outputId": "4a113326-0f5b-4452-a855-6a04a6b541f2"
      },
      "outputs": [
        {
          "data": {
            "text/plain": [
              "array(['Urea', 'DAP', '14-35-14', '28-28', '17-17-17', '20-20',\n",
              "       '10-26-26'], dtype=object)"
            ]
          },
          "execution_count": 19,
          "metadata": {},
          "output_type": "execute_result"
        }
      ],
      "source": [
        "df['Fertilizer Name'].unique()"
      ]
    },
    {
      "cell_type": "code",
      "execution_count": 20,
      "metadata": {
        "colab": {
          "base_uri": "https://localhost:8080/"
        },
        "id": "bf1-zjaDPWBk",
        "outputId": "c27d1197-d6ef-42e0-8854-7a1ed9002861"
      },
      "outputs": [
        {
          "data": {
            "text/plain": [
              "Temparature         int64\n",
              "Humidity            int64\n",
              "Moisture            int64\n",
              "Soil Type           int64\n",
              "Crop Type           int64\n",
              "Nitrogen            int64\n",
              "Potassium           int64\n",
              "Phosphorous         int64\n",
              "Fertilizer Name    object\n",
              "dtype: object"
            ]
          },
          "execution_count": 20,
          "metadata": {},
          "output_type": "execute_result"
        }
      ],
      "source": [
        "df.dtypes"
      ]
    },
    {
      "cell_type": "code",
      "execution_count": 21,
      "metadata": {
        "colab": {
          "base_uri": "https://localhost:8080/"
        },
        "id": "jHJ98sTOPcAS",
        "outputId": "292c793d-1cde-4e9e-bfbe-195416de8718"
      },
      "outputs": [
        {
          "data": {
            "text/plain": [
              "Fertilizer Name\n",
              "Urea        22\n",
              "DAP         18\n",
              "28-28       17\n",
              "14-35-14    14\n",
              "20-20       14\n",
              "17-17-17     7\n",
              "10-26-26     7\n",
              "Name: count, dtype: int64"
            ]
          },
          "execution_count": 21,
          "metadata": {},
          "output_type": "execute_result"
        }
      ],
      "source": [
        "df['Fertilizer Name'].value_counts()"
      ]
    },
    {
      "cell_type": "code",
      "execution_count": 23,
      "metadata": {},
      "outputs": [],
      "source": [
        "Fertilizer_Name=df['Fertilizer Name']"
      ]
    },
    {
      "cell_type": "code",
      "execution_count": 24,
      "metadata": {},
      "outputs": [],
      "source": [
        "# Initialize LabelEncoder\n",
        "label_encoder = LabelEncoder()\n",
        "\n",
        "# Fit label encoder and transform target column\n",
        "df['Fertilizer Name'] = label_encoder.fit_transform(df['Fertilizer Name'])"
      ]
    },
    {
      "cell_type": "code",
      "execution_count": 25,
      "metadata": {
        "colab": {
          "base_uri": "https://localhost:8080/",
          "height": 341
        },
        "id": "aUOuXF1cPeNv",
        "outputId": "7d0f84f7-bd0c-43aa-fee8-90f3ce700c2b"
      },
      "outputs": [
        {
          "data": {
            "text/plain": [
              "<Axes: >"
            ]
          },
          "execution_count": 25,
          "metadata": {},
          "output_type": "execute_result"
        },
        {
          "data": {
            "image/png": "[encoded data removed]",
            "text/plain": [
              "<Figure size 640x480 with 2 Axes>"
            ]
          },
          "metadata": {},
          "output_type": "display_data"
        }
      ],
      "source": [
        "sns.heatmap(df.corr(),annot=True)"
      ]
    },
    {
      "cell_type": "code",
      "execution_count": 26,
      "metadata": {
        "id": "KUs_Ty4rPpBH"
      },
      "outputs": [],
      "source": [
        "features=df\n",
        "target = features.pop('Fertilizer Name')\n",
        "label = target"
      ]
    },
    {
      "cell_type": "code",
      "execution_count": 27,
      "metadata": {
        "colab": {
          "base_uri": "https://localhost:8080/",
          "height": 423
        },
        "id": "snlmCRpBP2Wl",
        "outputId": "3907801f-fb70-47e8-bb90-05cbf8704061"
      },
      "outputs": [
        {
          "data": {
            "text/html": [
              "<div>\n",
              "<style scoped>\n",
              "    .dataframe tbody tr th:only-of-type {\n",
              "        vertical-align: middle;\n",
              "    }\n",
              "\n",
              "    .dataframe tbody tr th {\n",
              "        vertical-align: top;\n",
              "    }\n",
              "\n",
              "    .dataframe thead th {\n",
              "        text-align: right;\n",
              "    }\n",
              "</style>\n",
              "<table border=\"1\" class=\"dataframe\">\n",
              "  <thead>\n",
              "    <tr style=\"text-align: right;\">\n",
              "      <th></th>\n",
              "      <th>Temparature</th>\n",
              "      <th>Humidity</th>\n",
              "      <th>Moisture</th>\n",
              "      <th>Soil Type</th>\n",
              "      <th>Crop Type</th>\n",
              "      <th>Nitrogen</th>\n",
              "      <th>Potassium</th>\n",
              "      <th>Phosphorous</th>\n",
              "    </tr>\n",
              "  </thead>\n",
              "  <tbody>\n",
              "    <tr>\n",
              "      <th>0</th>\n",
              "      <td>26</td>\n",
              "      <td>52</td>\n",
              "      <td>38</td>\n",
              "      <td>4</td>\n",
              "      <td>3</td>\n",
              "      <td>37</td>\n",
              "      <td>0</td>\n",
              "      <td>0</td>\n",
              "    </tr>\n",
              "    <tr>\n",
              "      <th>1</th>\n",
              "      <td>29</td>\n",
              "      <td>52</td>\n",
              "      <td>45</td>\n",
              "      <td>2</td>\n",
              "      <td>8</td>\n",
              "      <td>12</td>\n",
              "      <td>0</td>\n",
              "      <td>36</td>\n",
              "    </tr>\n",
              "    <tr>\n",
              "      <th>2</th>\n",
              "      <td>34</td>\n",
              "      <td>65</td>\n",
              "      <td>62</td>\n",
              "      <td>0</td>\n",
              "      <td>1</td>\n",
              "      <td>7</td>\n",
              "      <td>9</td>\n",
              "      <td>30</td>\n",
              "    </tr>\n",
              "    <tr>\n",
              "      <th>3</th>\n",
              "      <td>32</td>\n",
              "      <td>62</td>\n",
              "      <td>34</td>\n",
              "      <td>3</td>\n",
              "      <td>9</td>\n",
              "      <td>22</td>\n",
              "      <td>0</td>\n",
              "      <td>20</td>\n",
              "    </tr>\n",
              "    <tr>\n",
              "      <th>4</th>\n",
              "      <td>28</td>\n",
              "      <td>54</td>\n",
              "      <td>46</td>\n",
              "      <td>1</td>\n",
              "      <td>6</td>\n",
              "      <td>35</td>\n",
              "      <td>0</td>\n",
              "      <td>0</td>\n",
              "    </tr>\n",
              "    <tr>\n",
              "      <th>...</th>\n",
              "      <td>...</td>\n",
              "      <td>...</td>\n",
              "      <td>...</td>\n",
              "      <td>...</td>\n",
              "      <td>...</td>\n",
              "      <td>...</td>\n",
              "      <td>...</td>\n",
              "      <td>...</td>\n",
              "    </tr>\n",
              "    <tr>\n",
              "      <th>94</th>\n",
              "      <td>25</td>\n",
              "      <td>50</td>\n",
              "      <td>32</td>\n",
              "      <td>1</td>\n",
              "      <td>7</td>\n",
              "      <td>24</td>\n",
              "      <td>0</td>\n",
              "      <td>19</td>\n",
              "    </tr>\n",
              "    <tr>\n",
              "      <th>95</th>\n",
              "      <td>30</td>\n",
              "      <td>60</td>\n",
              "      <td>27</td>\n",
              "      <td>3</td>\n",
              "      <td>9</td>\n",
              "      <td>4</td>\n",
              "      <td>17</td>\n",
              "      <td>17</td>\n",
              "    </tr>\n",
              "    <tr>\n",
              "      <th>96</th>\n",
              "      <td>38</td>\n",
              "      <td>72</td>\n",
              "      <td>51</td>\n",
              "      <td>2</td>\n",
              "      <td>10</td>\n",
              "      <td>39</td>\n",
              "      <td>0</td>\n",
              "      <td>0</td>\n",
              "    </tr>\n",
              "    <tr>\n",
              "      <th>97</th>\n",
              "      <td>36</td>\n",
              "      <td>60</td>\n",
              "      <td>43</td>\n",
              "      <td>4</td>\n",
              "      <td>4</td>\n",
              "      <td>15</td>\n",
              "      <td>0</td>\n",
              "      <td>41</td>\n",
              "    </tr>\n",
              "    <tr>\n",
              "      <th>98</th>\n",
              "      <td>29</td>\n",
              "      <td>58</td>\n",
              "      <td>57</td>\n",
              "      <td>0</td>\n",
              "      <td>8</td>\n",
              "      <td>12</td>\n",
              "      <td>0</td>\n",
              "      <td>10</td>\n",
              "    </tr>\n",
              "  </tbody>\n",
              "</table>\n",
              "<p>99 rows × 8 columns</p>\n",
              "</div>"
            ],
            "text/plain": [
              "    Temparature  Humidity   Moisture  Soil Type  Crop Type  Nitrogen  \\\n",
              "0            26         52        38          4          3        37   \n",
              "1            29         52        45          2          8        12   \n",
              "2            34         65        62          0          1         7   \n",
              "3            32         62        34          3          9        22   \n",
              "4            28         54        46          1          6        35   \n",
              "..          ...        ...       ...        ...        ...       ...   \n",
              "94           25         50        32          1          7        24   \n",
              "95           30         60        27          3          9         4   \n",
              "96           38         72        51          2         10        39   \n",
              "97           36         60        43          4          4        15   \n",
              "98           29         58        57          0          8        12   \n",
              "\n",
              "    Potassium  Phosphorous  \n",
              "0           0            0  \n",
              "1           0           36  \n",
              "2           9           30  \n",
              "3           0           20  \n",
              "4           0            0  \n",
              "..        ...          ...  \n",
              "94          0           19  \n",
              "95         17           17  \n",
              "96          0            0  \n",
              "97          0           41  \n",
              "98          0           10  \n",
              "\n",
              "[99 rows x 8 columns]"
            ]
          },
          "execution_count": 27,
          "metadata": {},
          "output_type": "execute_result"
        }
      ],
      "source": [
        "features"
      ]
    },
    {
      "cell_type": "code",
      "execution_count": 28,
      "metadata": {
        "id": "OLAMkkYaP3tW"
      },
      "outputs": [],
      "source": [
        "# Initializing empty lists to append all model's name and corresponding name\n",
        "acc = []\n",
        "model = []"
      ]
    },
    {
      "cell_type": "code",
      "execution_count": 29,
      "metadata": {
        "id": "qON0svWHQTP_"
      },
      "outputs": [],
      "source": [
        "# Splitting into train and test data\n",
        "\n",
        "from sklearn.model_selection import train_test_split\n",
        "Xtrain, Xtest, Ytrain, Ytest = train_test_split(features,target,test_size = 0.2,random_state =2)"
      ]
    },
    {
      "cell_type": "markdown",
      "metadata": {},
      "source": [
        "##  Decision Tree"
      ]
    },
    {
      "cell_type": "code",
      "execution_count": 30,
      "metadata": {
        "colab": {
          "base_uri": "https://localhost:8080/"
        },
        "id": "F9iMBqA-QV0F",
        "outputId": "2f1c7338-fd50-4f5d-96f5-b47f29731e64"
      },
      "outputs": [
        {
          "name": "stdout",
          "output_type": "stream",
          "text": [
            "DecisionTrees's Accuracy is:  85.0\n",
            "              precision    recall  f1-score   support\n",
            "\n",
            "           0       0.00      0.00      0.00         3\n",
            "           1       0.40      1.00      0.57         2\n",
            "           2       1.00      1.00      1.00         1\n",
            "           3       1.00      1.00      1.00         4\n",
            "           4       1.00      1.00      1.00         3\n",
            "           5       1.00      1.00      1.00         2\n",
            "           6       1.00      1.00      1.00         5\n",
            "\n",
            "    accuracy                           0.85        20\n",
            "   macro avg       0.77      0.86      0.80        20\n",
            "weighted avg       0.79      0.85      0.81        20\n",
            "\n"
          ]
        }
      ],
      "source": [
        "from sklearn.tree import DecisionTreeClassifier\n",
        "\n",
        "DecisionTree = DecisionTreeClassifier(criterion=\"entropy\",random_state=2,max_depth=5)\n",
        "\n",
        "DecisionTree.fit(Xtrain,Ytrain)\n",
        "\n",
        "predicted_values = DecisionTree.predict(Xtest)\n",
        "x = metrics.accuracy_score(Ytest, predicted_values)\n",
        "acc.append(x)\n",
        "model.append('Decision Tree')\n",
        "print(\"DecisionTrees's Accuracy is: \", x*100)\n",
        "\n",
        "print(classification_report(Ytest,predicted_values))"
      ]
    },
    {
      "cell_type": "code",
      "execution_count": 31,
      "metadata": {
        "id": "2GDnmJVVQX9T"
      },
      "outputs": [],
      "source": [
        "from sklearn.model_selection import cross_val_score"
      ]
    },
    {
      "cell_type": "code",
      "execution_count": 32,
      "metadata": {
        "id": "6n9g67SjVYh7"
      },
      "outputs": [],
      "source": [
        "# Cross validation score (Decision Tree)\n",
        "score = cross_val_score(DecisionTree, features, target,cv=5)"
      ]
    },
    {
      "cell_type": "code",
      "execution_count": 33,
      "metadata": {
        "colab": {
          "base_uri": "https://localhost:8080/"
        },
        "id": "K2lz3ozPVZ3e",
        "outputId": "cb595971-4898-4645-8aeb-d05014bddf90"
      },
      "outputs": [
        {
          "data": {
            "text/plain": [
              "array([0.95, 1.  , 0.95, 0.95, 1.  ])"
            ]
          },
          "execution_count": 33,
          "metadata": {},
          "output_type": "execute_result"
        }
      ],
      "source": [
        "score"
      ]
    },
    {
      "cell_type": "markdown",
      "metadata": {},
      "source": [
        "## Gaussian Naive Bayes"
      ]
    },
    {
      "cell_type": "code",
      "execution_count": 34,
      "metadata": {
        "colab": {
          "base_uri": "https://localhost:8080/"
        },
        "id": "RAjQD4WmVbmt",
        "outputId": "33e83d44-e7cd-4959-dd42-90a5c9dfec7f"
      },
      "outputs": [
        {
          "name": "stdout",
          "output_type": "stream",
          "text": [
            "Naive Bayes's Accuracy is:  0.85\n",
            "              precision    recall  f1-score   support\n",
            "\n",
            "           0       0.00      0.00      0.00         3\n",
            "           1       1.00      1.00      1.00         2\n",
            "           2       0.25      1.00      0.40         1\n",
            "           3       1.00      1.00      1.00         4\n",
            "           4       1.00      1.00      1.00         3\n",
            "           5       1.00      1.00      1.00         2\n",
            "           6       1.00      1.00      1.00         5\n",
            "\n",
            "    accuracy                           0.85        20\n",
            "   macro avg       0.75      0.86      0.77        20\n",
            "weighted avg       0.81      0.85      0.82        20\n",
            "\n"
          ]
        }
      ],
      "source": [
        "from sklearn.naive_bayes import GaussianNB\n",
        "\n",
        "NaiveBayes = GaussianNB()\n",
        "\n",
        "NaiveBayes.fit(Xtrain,Ytrain)\n",
        "\n",
        "predicted_values = NaiveBayes.predict(Xtest)\n",
        "x = metrics.accuracy_score(Ytest, predicted_values)\n",
        "acc.append(x)\n",
        "model.append('Naive Bayes')\n",
        "print(\"Naive Bayes's Accuracy is: \", x)\n",
        "\n",
        "print(classification_report(Ytest,predicted_values))"
      ]
    },
    {
      "cell_type": "code",
      "execution_count": 35,
      "metadata": {
        "colab": {
          "base_uri": "https://localhost:8080/"
        },
        "id": "QBMT_6TNVepn",
        "outputId": "dae355f6-4eab-41bb-aa0c-0178ebf2ecc9"
      },
      "outputs": [
        {
          "data": {
            "text/plain": [
              "array([1., 1., 1., 1., 1.])"
            ]
          },
          "execution_count": 35,
          "metadata": {},
          "output_type": "execute_result"
        }
      ],
      "source": [
        "# Cross validation score (NaiveBayes)\n",
        "score = cross_val_score(NaiveBayes,features,target,cv=5)\n",
        "score"
      ]
    },
    {
      "cell_type": "markdown",
      "metadata": {},
      "source": [
        "## SVC"
      ]
    },
    {
      "cell_type": "code",
      "execution_count": 36,
      "metadata": {
        "colab": {
          "base_uri": "https://localhost:8080/"
        },
        "id": "iR0LfhO8VjiN",
        "outputId": "a13af3ce-245b-40fb-9a6a-6141463e9575"
      },
      "outputs": [
        {
          "name": "stdout",
          "output_type": "stream",
          "text": [
            "SVM's Accuracy is:  0.4\n",
            "              precision    recall  f1-score   support\n",
            "\n",
            "           0       0.00      0.00      0.00         3\n",
            "           1       0.00      0.00      0.00         2\n",
            "           2       0.00      0.00      0.00         1\n",
            "           3       0.00      0.00      0.00         4\n",
            "           4       1.00      0.33      0.50         3\n",
            "           5       1.00      1.00      1.00         2\n",
            "           6       0.29      1.00      0.45         5\n",
            "\n",
            "    accuracy                           0.40        20\n",
            "   macro avg       0.33      0.33      0.28        20\n",
            "weighted avg       0.32      0.40      0.29        20\n",
            "\n"
          ]
        }
      ],
      "source": [
        "from sklearn.svm import SVC\n",
        "\n",
        "SVM = SVC(gamma='auto')\n",
        "\n",
        "SVM.fit(Xtrain,Ytrain)\n",
        "\n",
        "predicted_values = SVM.predict(Xtest)\n",
        "\n",
        "x = metrics.accuracy_score(Ytest, predicted_values)\n",
        "# acc.append(x)\n",
        "model.append('SVM')\n",
        "print(\"SVM's Accuracy is: \", x)\n",
        "\n",
        "print(classification_report(Ytest,predicted_values))"
      ]
    },
    {
      "cell_type": "code",
      "execution_count": 47,
      "metadata": {
        "colab": {
          "base_uri": "https://localhost:8080/"
        },
        "id": "OC5KA7RcdKEo",
        "outputId": "67b50f39-573c-4f56-8431-93c2969d4d32"
      },
      "outputs": [
        {
          "name": "stdout",
          "output_type": "stream",
          "text": [
            "Accuracy on Test Data: 75.0%\n",
            "\n"
          ]
        }
      ],
      "source": [
        "# svm classifier\n",
        "\n",
        "from sklearn.pipeline import make_pipeline\n",
        "from sklearn.preprocessing import StandardScaler, LabelEncoder\n",
        "from sklearn.metrics import accuracy_score\n",
        "\n",
        "svm_pipeline = make_pipeline(StandardScaler(), SVC(probability=True))\n",
        "svm_pipeline.fit(Xtrain, Ytrain)\n",
        "\n",
        "# Accuray On Test Data\n",
        "predictions = svm_pipeline.predict(Xtest)\n",
        "accuracy = accuracy_score(Ytest, predictions)\n",
        "print(f\"Accuracy on Test Data: {accuracy*100}%\")\n",
        "\n",
        "acc.append(accuracy)\n",
        "print()\n",
        "\n"
      ]
    },
    {
      "cell_type": "code",
      "execution_count": 38,
      "metadata": {
        "colab": {
          "base_uri": "https://localhost:8080/"
        },
        "id": "oh9bqLozVmoB",
        "outputId": "e8462f9c-48e7-4180-cc84-5ee15d123c75"
      },
      "outputs": [
        {
          "data": {
            "text/plain": [
              "array([0.35      , 0.25      , 0.3       , 0.2       , 0.26315789])"
            ]
          },
          "execution_count": 38,
          "metadata": {},
          "output_type": "execute_result"
        }
      ],
      "source": [
        "# Cross validation score (SVM)\n",
        "score = cross_val_score(SVM,features,target,cv=5)\n",
        "score"
      ]
    },
    {
      "cell_type": "markdown",
      "metadata": {},
      "source": [
        "## Saving Trained Model Weights"
      ]
    },
    {
      "cell_type": "code",
      "execution_count": 49,
      "metadata": {},
      "outputs": [],
      "source": [
        "import pickle\n",
        "# Dump the trained SVM classifier with Pickle\n",
        "SVM_pkl_filename = 'SVMClassifier_Fertilizer.pkl'\n",
        "# Open the file to save as pkl file\n",
        "SVM_Model_pkl = open(SVM_pkl_filename, 'wb')\n",
        "pickle.dump(SVM, SVM_Model_pkl)\n",
        "# Close the pickle instances\n",
        "SVM_Model_pkl.close()"
      ]
    },
    {
      "cell_type": "code",
      "execution_count": null,
      "metadata": {},
      "outputs": [],
      "source": [
        "SVM.predict([[100,30,80,]])"
      ]
    },
    {
      "cell_type": "code",
      "execution_count": null,
      "metadata": {},
      "outputs": [
        {
          "data": {
            "text/html": [
              "<div>\n",
              "<style scoped>\n",
              "    .dataframe tbody tr th:only-of-type {\n",
              "        vertical-align: middle;\n",
              "    }\n",
              "\n",
              "    .dataframe tbody tr th {\n",
              "        vertical-align: top;\n",
              "    }\n",
              "\n",
              "    .dataframe thead th {\n",
              "        text-align: right;\n",
              "    }\n",
              "</style>\n",
              "<table border=\"1\" class=\"dataframe\">\n",
              "  <thead>\n",
              "    <tr style=\"text-align: right;\">\n",
              "      <th></th>\n",
              "      <th>Temparature</th>\n",
              "      <th>Humidity</th>\n",
              "      <th>Moisture</th>\n",
              "      <th>Soil Type</th>\n",
              "      <th>Crop Type</th>\n",
              "      <th>Nitrogen</th>\n",
              "      <th>Potassium</th>\n",
              "      <th>Phosphorous</th>\n",
              "    </tr>\n",
              "  </thead>\n",
              "  <tbody>\n",
              "    <tr>\n",
              "      <th>93</th>\n",
              "      <td>28</td>\n",
              "      <td>54</td>\n",
              "      <td>25</td>\n",
              "      <td>4</td>\n",
              "      <td>3</td>\n",
              "      <td>9</td>\n",
              "      <td>10</td>\n",
              "      <td>30</td>\n",
              "    </tr>\n",
              "    <tr>\n",
              "      <th>30</th>\n",
              "      <td>29</td>\n",
              "      <td>58</td>\n",
              "      <td>40</td>\n",
              "      <td>3</td>\n",
              "      <td>2</td>\n",
              "      <td>24</td>\n",
              "      <td>0</td>\n",
              "      <td>23</td>\n",
              "    </tr>\n",
              "    <tr>\n",
              "      <th>56</th>\n",
              "      <td>34</td>\n",
              "      <td>65</td>\n",
              "      <td>54</td>\n",
              "      <td>2</td>\n",
              "      <td>10</td>\n",
              "      <td>38</td>\n",
              "      <td>0</td>\n",
              "      <td>0</td>\n",
              "    </tr>\n",
              "    <tr>\n",
              "      <th>24</th>\n",
              "      <td>33</td>\n",
              "      <td>64</td>\n",
              "      <td>39</td>\n",
              "      <td>1</td>\n",
              "      <td>6</td>\n",
              "      <td>13</td>\n",
              "      <td>0</td>\n",
              "      <td>10</td>\n",
              "    </tr>\n",
              "    <tr>\n",
              "      <th>16</th>\n",
              "      <td>33</td>\n",
              "      <td>64</td>\n",
              "      <td>34</td>\n",
              "      <td>1</td>\n",
              "      <td>7</td>\n",
              "      <td>38</td>\n",
              "      <td>0</td>\n",
              "      <td>0</td>\n",
              "    </tr>\n",
              "    <tr>\n",
              "      <th>23</th>\n",
              "      <td>28</td>\n",
              "      <td>54</td>\n",
              "      <td>37</td>\n",
              "      <td>0</td>\n",
              "      <td>4</td>\n",
              "      <td>36</td>\n",
              "      <td>0</td>\n",
              "      <td>0</td>\n",
              "    </tr>\n",
              "    <tr>\n",
              "      <th>2</th>\n",
              "      <td>34</td>\n",
              "      <td>65</td>\n",
              "      <td>62</td>\n",
              "      <td>0</td>\n",
              "      <td>1</td>\n",
              "      <td>7</td>\n",
              "      <td>9</td>\n",
              "      <td>30</td>\n",
              "    </tr>\n",
              "    <tr>\n",
              "      <th>27</th>\n",
              "      <td>32</td>\n",
              "      <td>62</td>\n",
              "      <td>30</td>\n",
              "      <td>2</td>\n",
              "      <td>8</td>\n",
              "      <td>38</td>\n",
              "      <td>0</td>\n",
              "      <td>0</td>\n",
              "    </tr>\n",
              "    <tr>\n",
              "      <th>28</th>\n",
              "      <td>37</td>\n",
              "      <td>70</td>\n",
              "      <td>32</td>\n",
              "      <td>0</td>\n",
              "      <td>5</td>\n",
              "      <td>12</td>\n",
              "      <td>0</td>\n",
              "      <td>39</td>\n",
              "    </tr>\n",
              "    <tr>\n",
              "      <th>13</th>\n",
              "      <td>32</td>\n",
              "      <td>62</td>\n",
              "      <td>41</td>\n",
              "      <td>1</td>\n",
              "      <td>6</td>\n",
              "      <td>24</td>\n",
              "      <td>0</td>\n",
              "      <td>22</td>\n",
              "    </tr>\n",
              "    <tr>\n",
              "      <th>98</th>\n",
              "      <td>29</td>\n",
              "      <td>58</td>\n",
              "      <td>57</td>\n",
              "      <td>0</td>\n",
              "      <td>8</td>\n",
              "      <td>12</td>\n",
              "      <td>0</td>\n",
              "      <td>10</td>\n",
              "    </tr>\n",
              "    <tr>\n",
              "      <th>91</th>\n",
              "      <td>34</td>\n",
              "      <td>65</td>\n",
              "      <td>45</td>\n",
              "      <td>1</td>\n",
              "      <td>6</td>\n",
              "      <td>6</td>\n",
              "      <td>19</td>\n",
              "      <td>21</td>\n",
              "    </tr>\n",
              "    <tr>\n",
              "      <th>88</th>\n",
              "      <td>36</td>\n",
              "      <td>68</td>\n",
              "      <td>50</td>\n",
              "      <td>2</td>\n",
              "      <td>10</td>\n",
              "      <td>12</td>\n",
              "      <td>18</td>\n",
              "      <td>19</td>\n",
              "    </tr>\n",
              "    <tr>\n",
              "      <th>14</th>\n",
              "      <td>26</td>\n",
              "      <td>52</td>\n",
              "      <td>31</td>\n",
              "      <td>3</td>\n",
              "      <td>2</td>\n",
              "      <td>14</td>\n",
              "      <td>0</td>\n",
              "      <td>41</td>\n",
              "    </tr>\n",
              "    <tr>\n",
              "      <th>0</th>\n",
              "      <td>26</td>\n",
              "      <td>52</td>\n",
              "      <td>38</td>\n",
              "      <td>4</td>\n",
              "      <td>3</td>\n",
              "      <td>37</td>\n",
              "      <td>0</td>\n",
              "      <td>0</td>\n",
              "    </tr>\n",
              "    <tr>\n",
              "      <th>21</th>\n",
              "      <td>34</td>\n",
              "      <td>65</td>\n",
              "      <td>53</td>\n",
              "      <td>2</td>\n",
              "      <td>8</td>\n",
              "      <td>12</td>\n",
              "      <td>14</td>\n",
              "      <td>12</td>\n",
              "    </tr>\n",
              "    <tr>\n",
              "      <th>3</th>\n",
              "      <td>32</td>\n",
              "      <td>62</td>\n",
              "      <td>34</td>\n",
              "      <td>3</td>\n",
              "      <td>9</td>\n",
              "      <td>22</td>\n",
              "      <td>0</td>\n",
              "      <td>20</td>\n",
              "    </tr>\n",
              "    <tr>\n",
              "      <th>29</th>\n",
              "      <td>26</td>\n",
              "      <td>52</td>\n",
              "      <td>36</td>\n",
              "      <td>1</td>\n",
              "      <td>7</td>\n",
              "      <td>14</td>\n",
              "      <td>0</td>\n",
              "      <td>13</td>\n",
              "    </tr>\n",
              "    <tr>\n",
              "      <th>61</th>\n",
              "      <td>30</td>\n",
              "      <td>60</td>\n",
              "      <td>49</td>\n",
              "      <td>2</td>\n",
              "      <td>10</td>\n",
              "      <td>13</td>\n",
              "      <td>0</td>\n",
              "      <td>9</td>\n",
              "    </tr>\n",
              "    <tr>\n",
              "      <th>78</th>\n",
              "      <td>26</td>\n",
              "      <td>52</td>\n",
              "      <td>36</td>\n",
              "      <td>1</td>\n",
              "      <td>7</td>\n",
              "      <td>7</td>\n",
              "      <td>16</td>\n",
              "      <td>20</td>\n",
              "    </tr>\n",
              "  </tbody>\n",
              "</table>\n",
              "</div>"
            ],
            "text/plain": [
              "    Temparature  Humidity   Moisture  Soil Type  Crop Type  Nitrogen  \\\n",
              "93           28         54        25          4          3         9   \n",
              "30           29         58        40          3          2        24   \n",
              "56           34         65        54          2         10        38   \n",
              "24           33         64        39          1          6        13   \n",
              "16           33         64        34          1          7        38   \n",
              "23           28         54        37          0          4        36   \n",
              "2            34         65        62          0          1         7   \n",
              "27           32         62        30          2          8        38   \n",
              "28           37         70        32          0          5        12   \n",
              "13           32         62        41          1          6        24   \n",
              "98           29         58        57          0          8        12   \n",
              "91           34         65        45          1          6         6   \n",
              "88           36         68        50          2         10        12   \n",
              "14           26         52        31          3          2        14   \n",
              "0            26         52        38          4          3        37   \n",
              "21           34         65        53          2          8        12   \n",
              "3            32         62        34          3          9        22   \n",
              "29           26         52        36          1          7        14   \n",
              "61           30         60        49          2         10        13   \n",
              "78           26         52        36          1          7         7   \n",
              "\n",
              "    Potassium  Phosphorous  \n",
              "93         10           30  \n",
              "30          0           23  \n",
              "56          0            0  \n",
              "24          0           10  \n",
              "16          0            0  \n",
              "23          0            0  \n",
              "2           9           30  \n",
              "27          0            0  \n",
              "28          0           39  \n",
              "13          0           22  \n",
              "98          0           10  \n",
              "91         19           21  \n",
              "88         18           19  \n",
              "14          0           41  \n",
              "0           0            0  \n",
              "21         14           12  \n",
              "3           0           20  \n",
              "29          0           13  \n",
              "61          0            9  \n",
              "78         16           20  "
            ]
          },
          "execution_count": 50,
          "metadata": {},
          "output_type": "execute_result"
        }
      ],
      "source": [
        "Xtest # Testing Dataset"
      ]
    },
    {
      "cell_type": "markdown",
      "metadata": {},
      "source": [
        "##  Logistic Regression\n"
      ]
    },
    {
      "cell_type": "code",
      "execution_count": 39,
      "metadata": {
        "colab": {
          "base_uri": "https://localhost:8080/"
        },
        "id": "1UWEwguHVtQe",
        "outputId": "ec1f852e-4de2-46e4-d410-f61326af822f"
      },
      "outputs": [
        {
          "name": "stdout",
          "output_type": "stream",
          "text": [
            "Logistic Regression's Accuracy is:  1.0\n",
            "              precision    recall  f1-score   support\n",
            "\n",
            "           0       1.00      1.00      1.00         3\n",
            "           1       1.00      1.00      1.00         2\n",
            "           2       1.00      1.00      1.00         1\n",
            "           3       1.00      1.00      1.00         4\n",
            "           4       1.00      1.00      1.00         3\n",
            "           5       1.00      1.00      1.00         2\n",
            "           6       1.00      1.00      1.00         5\n",
            "\n",
            "    accuracy                           1.00        20\n",
            "   macro avg       1.00      1.00      1.00        20\n",
            "weighted avg       1.00      1.00      1.00        20\n",
            "\n"
          ]
        }
      ],
      "source": [
        "from sklearn.linear_model import LogisticRegression\n",
        "\n",
        "LogReg = LogisticRegression(random_state=2)\n",
        "\n",
        "LogReg.fit(Xtrain,Ytrain)\n",
        "\n",
        "predicted_values = LogReg.predict(Xtest)\n",
        "\n",
        "x = metrics.accuracy_score(Ytest, predicted_values)\n",
        "acc.append(x)\n",
        "model.append('Logistic Regression')\n",
        "print(\"Logistic Regression's Accuracy is: \", x)\n",
        "\n",
        "print(classification_report(Ytest,predicted_values))"
      ]
    },
    {
      "cell_type": "code",
      "execution_count": 40,
      "metadata": {
        "colab": {
          "base_uri": "https://localhost:8080/"
        },
        "id": "DPQHBYdOVvHb",
        "outputId": "1f20fa35-1362-46d2-a610-94cc88fee21e"
      },
      "outputs": [
        {
          "data": {
            "text/plain": [
              "array([0.95, 1.  , 1.  , 1.  , 1.  ])"
            ]
          },
          "execution_count": 40,
          "metadata": {},
          "output_type": "execute_result"
        }
      ],
      "source": [
        "# Cross validation score (Logistic Regression)\n",
        "score = cross_val_score(LogReg,features,target,cv=5)\n",
        "score"
      ]
    },
    {
      "cell_type": "markdown",
      "metadata": {},
      "source": [
        "## Random Forest Classifier\n"
      ]
    },
    {
      "cell_type": "code",
      "execution_count": 41,
      "metadata": {
        "colab": {
          "base_uri": "https://localhost:8080/"
        },
        "id": "YIzslCE4Vyit",
        "outputId": "7e5f167e-f1a5-4eaa-d10d-ee8c355223c6"
      },
      "outputs": [
        {
          "name": "stdout",
          "output_type": "stream",
          "text": [
            "RF's Accuracy is:  0.9\n",
            "              precision    recall  f1-score   support\n",
            "\n",
            "           0       1.00      0.33      0.50         3\n",
            "           1       0.67      1.00      0.80         2\n",
            "           2       0.50      1.00      0.67         1\n",
            "           3       1.00      1.00      1.00         4\n",
            "           4       1.00      1.00      1.00         3\n",
            "           5       1.00      1.00      1.00         2\n",
            "           6       1.00      1.00      1.00         5\n",
            "\n",
            "    accuracy                           0.90        20\n",
            "   macro avg       0.88      0.90      0.85        20\n",
            "weighted avg       0.94      0.90      0.89        20\n",
            "\n"
          ]
        }
      ],
      "source": [
        "from sklearn.ensemble import RandomForestClassifier\n",
        "\n",
        "RF = RandomForestClassifier(n_estimators=20, random_state=0)\n",
        "RF.fit(Xtrain,Ytrain)\n",
        "\n",
        "predicted_values = RF.predict(Xtest)\n",
        "\n",
        "x = metrics.accuracy_score(Ytest, predicted_values)\n",
        "acc.append(x)\n",
        "model.append('RF')\n",
        "print(\"RF's Accuracy is: \", x)\n",
        "\n",
        "print(classification_report(Ytest,predicted_values))"
      ]
    },
    {
      "cell_type": "code",
      "execution_count": 42,
      "metadata": {
        "colab": {
          "base_uri": "https://localhost:8080/"
        },
        "id": "b0jXpxEtV1ZW",
        "outputId": "148d712b-4ba5-4394-83e8-9523b2b2e461"
      },
      "outputs": [
        {
          "data": {
            "text/plain": [
              "array([0.9, 1. , 1. , 0.9, 1. ])"
            ]
          },
          "execution_count": 42,
          "metadata": {},
          "output_type": "execute_result"
        }
      ],
      "source": [
        "# Cross validation score (Random Forest)\n",
        "score = cross_val_score(RF,features,target,cv=5)\n",
        "score"
      ]
    },
    {
      "cell_type": "markdown",
      "metadata": {},
      "source": [
        "## XG Boost"
      ]
    },
    {
      "cell_type": "code",
      "execution_count": 43,
      "metadata": {
        "colab": {
          "base_uri": "https://localhost:8080/"
        },
        "id": "Z6JOO4xeV4TB",
        "outputId": "014a33a3-abfd-4485-d7a5-6ea64073c126"
      },
      "outputs": [
        {
          "name": "stdout",
          "output_type": "stream",
          "text": [
            "XGBoost's Accuracy is:  0.95\n",
            "              precision    recall  f1-score   support\n",
            "\n",
            "           0       1.00      0.67      0.80         3\n",
            "           1       0.67      1.00      0.80         2\n",
            "           2       1.00      1.00      1.00         1\n",
            "           3       1.00      1.00      1.00         4\n",
            "           4       1.00      1.00      1.00         3\n",
            "           5       1.00      1.00      1.00         2\n",
            "           6       1.00      1.00      1.00         5\n",
            "\n",
            "    accuracy                           0.95        20\n",
            "   macro avg       0.95      0.95      0.94        20\n",
            "weighted avg       0.97      0.95      0.95        20\n",
            "\n"
          ]
        }
      ],
      "source": [
        "import xgboost as xgb\n",
        "XB = xgb.XGBClassifier()\n",
        "XB.fit(Xtrain,Ytrain)\n",
        "\n",
        "predicted_values = XB.predict(Xtest)\n",
        "\n",
        "x = metrics.accuracy_score(Ytest, predicted_values)\n",
        "acc.append(x)\n",
        "model.append('XGBoost')\n",
        "print(\"XGBoost's Accuracy is: \", x)\n",
        "\n",
        "print(classification_report(Ytest,predicted_values))"
      ]
    },
    {
      "cell_type": "code",
      "execution_count": 44,
      "metadata": {
        "colab": {
          "base_uri": "https://localhost:8080/"
        },
        "id": "1KReKecSV61n",
        "outputId": "87f4ccd1-4cab-4958-f506-08f4fd4f6043"
      },
      "outputs": [
        {
          "data": {
            "text/plain": [
              "array([0.95, 1.  , 0.95, 1.  , 1.  ])"
            ]
          },
          "execution_count": 44,
          "metadata": {},
          "output_type": "execute_result"
        }
      ],
      "source": [
        "# Cross validation score (XGBoost)\n",
        "score = cross_val_score(XB,features,target,cv=5)\n",
        "score"
      ]
    },
    {
      "cell_type": "markdown",
      "metadata": {},
      "source": [
        "## Accuracy of all the models on test data"
      ]
    },
    {
      "cell_type": "code",
      "execution_count": 45,
      "metadata": {
        "colab": {
          "base_uri": "https://localhost:8080/"
        },
        "id": "fWo7Hc4_c5-m",
        "outputId": "7f2bff60-7907-4138-a641-2448cd636ea5"
      },
      "outputs": [
        {
          "data": {
            "text/plain": [
              "[0.85, 0.85, 1.0, 0.9, 0.95]"
            ]
          },
          "execution_count": 45,
          "metadata": {},
          "output_type": "execute_result"
        }
      ],
      "source": [
        "acc"
      ]
    },
    {
      "cell_type": "code",
      "execution_count": null,
      "metadata": {
        "id": "-xSdwei0c9Me"
      },
      "outputs": [],
      "source": []
    },
    {
      "cell_type": "code",
      "execution_count": 48,
      "metadata": {
        "colab": {
          "base_uri": "https://localhost:8080/",
          "height": 498
        },
        "id": "9UcQtfHQV8_f",
        "outputId": "43bf994f-5288-4710-c146-ce9cf4c853c8"
      },
      "outputs": [
        {
          "data": {
            "text/plain": [
              "<Axes: title={'center': 'Accuracy Comparison'}, xlabel='Algorithm', ylabel='Accuracy'>"
            ]
          },
          "execution_count": 48,
          "metadata": {},
          "output_type": "execute_result"
        },
        {
          "data": {
            "image/png": "[encoded data removed]",
            "text/plain": [
              "<Figure size 1000x500 with 1 Axes>"
            ]
          },
          "metadata": {},
          "output_type": "display_data"
        }
      ],
      "source": [
        "plt.figure(figsize=[10,5],dpi = 100)\n",
        "plt.title('Accuracy Comparison')\n",
        "plt.ylabel('Accuracy')\n",
        "plt.xlabel('Algorithm')\n",
        "sns.barplot(y = acc,x = model,palette='dark')"
      ]
    },
    {
      "cell_type": "code",
      "execution_count": null,
      "metadata": {
        "id": "t0BPkBS6V_LR"
      },
      "outputs": [],
      "source": []
    }
  ],
  "metadata": {
    "colab": {
      "collapsed_sections": [],
      "name": "Fertilizer-recommendation.ipynb",
      "provenance": []
    },
    "kernelspec": {
      "display_name": "Python 3",
      "name": "python3"
    },
    "language_info": {
      "codemirror_mode": {
        "name": "ipython",
        "version": 3
      },
      "file_extension": ".py",
      "mimetype": "text/x-python",
      "name": "python",
      "nbconvert_exporter": "python",
      "pygments_lexer": "ipython3",
      "version": "3.11.7"
    }
  },
  "nbformat": 4,
  "nbformat_minor": 0
}
